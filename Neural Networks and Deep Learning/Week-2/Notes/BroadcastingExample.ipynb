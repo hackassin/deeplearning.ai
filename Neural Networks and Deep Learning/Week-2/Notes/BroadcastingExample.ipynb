{
 "cells": [
  {
   "cell_type": "code",
   "execution_count": 5,
   "metadata": {
    "collapsed": true
   },
   "outputs": [
    {
     "name": "stdout",
     "output_type": "stream",
     "text": [
      "[[ 56.    0.    4.4  68. ]\n [  1.2 104.   52.    8. ]\n [  1.8 135.   99.    0.9]]\n[ 59.  239.  155.4  76.9]\n"
     ]
    }
   ],
   "source": [
    "import numpy as np\n",
    "A = np.array([[56.0, 0.0, 4.4, 68.0],\n",
    "             [1.2, 104.0, 52.0, 8.0],\n",
    "             [1.8, 135.0, 99.0, 0.9]])\n",
    "print(A)"
   ]
  },
  {
   "cell_type": "code",
   "execution_count": 16,
   "metadata": {},
   "outputs": [
    {
     "name": "stdout",
     "output_type": "stream",
     "text": [
      "[ 59.  239.  155.4  76.9]\n(4,)\n"
     ]
    }
   ],
   "source": [
    "cal = (A.sum(axis=0))\n",
    "print(cal)\n",
    "print(cal.shape)"
   ]
  },
  {
   "cell_type": "code",
   "execution_count": 9,
   "metadata": {},
   "outputs": [
    {
     "name": "stdout",
     "output_type": "stream",
     "text": [
      "[[94.91525424  0.          2.83140283 88.42652796]\n [ 2.03389831 43.51464435 33.46203346 10.40312094]\n [ 3.05084746 56.48535565 63.70656371  1.17035111]]\n"
     ]
    }
   ],
   "source": [
    "per = 100 * A/cal\n",
    "print(per)"
   ]
  },
  {
   "cell_type": "code",
   "execution_count": 21,
   "metadata": {},
   "outputs": [
    {
     "name": "stdout",
     "output_type": "stream",
     "text": [
      "Value: [[-1.2931769  -0.95570417 -0.76549108]\n [-2.45114099 -2.60588903 -2.24241853]] Shape: (2, 3)\n"
     ]
    }
   ],
   "source": [
    "a = np.random.randn(2, 3) # a.shape = (2, 3)\n",
    "b = np.random.randn(2, 1) # b.shape = (2, 1)\n",
    "c = a + b\n",
    "print(\"Value: \" + str(c) + \" Shape: \" + str(c.shape))"
   ]
  },
  {
   "cell_type": "code",
   "execution_count": null,
   "metadata": {},
   "outputs": [],
   "source": []
  }
 ],
 "metadata": {
  "kernelspec": {
   "display_name": "Python 2",
   "language": "python",
   "name": "python2"
  },
  "language_info": {
   "codemirror_mode": {
    "name": "ipython",
    "version": 2
   },
   "file_extension": ".py",
   "mimetype": "text/x-python",
   "name": "python",
   "nbconvert_exporter": "python",
   "pygments_lexer": "ipython2",
   "version": "2.7.6"
  }
 },
 "nbformat": 4,
 "nbformat_minor": 0
}
